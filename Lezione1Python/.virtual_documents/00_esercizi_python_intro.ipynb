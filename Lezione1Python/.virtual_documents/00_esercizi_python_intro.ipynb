


a = [1, 1, 2, 3, 5, 8, 13, 21, 34, 55, 89]
d = []
for n in a :
    if n < 5 :
        d.append(n)
print(d)





a = [1, 1, 2, 3, 5, 8, 13, 21, 34, 55, 89]
b = [1, 2, 3, 4, 5, 6, 7, 8, 9, 10, 11, 12, 13]
d = []

iterant = a if len(a) < len(b) else b
notIterant = b if len(a) < len(b) else a

for n in iterant :
    if (n not in d and n in notIterant):
        d.insert(-1,n)

print(d)

a = [1, 1, 2, 3, 5, 8, 13, 13, 21, 34, 55, 89, 11]
b = [1, 2, 3, 4, 5, 5, 10 , 13, 5, 11 ]
d = []

iterant = a if len(a) < len(b) else b
notIterant = b if len(a) < len(b) else a

for n in iterant :
    if (n in notIterant):
        d.insert(-1,n)

print(d)





a = [1, 4, 9, 16, 25, 36, 49, 64, 81, 100]
print([x for x in a if x % 2 == 0])





for a in range(1,6):
    print("* " * a)
for b in reversed(range(1,5)):
    print("* " * b)





s1='bly'
s2='blueberry'
out = True
for l in [*s1]:
    if l not in [*s2]:
        out = False
print(out)





val = int(input())
val2 = int(input())
mul = val * val2
if mul < 1000:
    print(mul)
else:
    print(val2 + val)





a = [2,4,1,6,10,23,-1]
sum_a = 0
for x in a:
    sum_a += x
mul_a = 1
for x in a:
    mul_a *= x
print(sum_a, mul_a)





import matplotlib.pyplot as plotter
x = [0,1,2,3,4,5,6,7,8,9,]
fx_square = [n**2 for n in x]
fx_cubic = [n**3 for n in x]
plotter.title("Esponente quadrato")
plotter.xlabel("x")
plotter.ylabel("y")
plotter.plot(x,fx_square,"bs-")
plotter.plot(x,fx_cubic,"ro-")
plotter.legend(["Square","Cubic"])


import matplotlib.pyplot as plotter
x = [0,1,2,3,4,5,6,7,8,9,]
fx_square = [n**2 for n in x]
fx_cubic = [n**3 for n in x]
plotter.subplot(1,2,1)
plotter.title("Esponente quadrato")
plotter.plot(x,fx_square,"y-")
plotter.subplot(1,2,2)
plotter.plot(x,fx_cubic,"r-",linewidth=3)
plotter.title("Esponente cubico")
plotter.grid(True)
