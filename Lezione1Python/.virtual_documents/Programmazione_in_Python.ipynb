











'''
Questi sono commenti su 
più linee...
'''
a=4








import math





import math

x = math.cos(2 * math.pi)

print(x)





from math import *

x = cos(2 * pi)

print(x)





from math import cos, pi

x = cos(2 * pi)

print(x)








import math

print(dir(math))





help(math.log)


math.log(10)


math.log(10, 10)











import sys
sys.float_info   #Informazioni sul sistema floating Point di Python


















a= 5+2j   #con j si indica l'unità immaginaria


print(a)


a.real  #accede alla parte reale
print(a.real)
a.imag  #accede al coefficiente dell' immaginario
print(a.imag)







a=1
b=2.0
c=4+5j
d=a+b
print(d)
e=a+b+c
print(e)








a=18.657
c=int(a)
print(c)





a='4.4'
valore=float(a)
print(valore)
print(type(valore))


a=4
s=str(a)
print(s)
print(type(s))


















x = 1.0
my_variable = 12.2





type(x)  #Restituisce il tipo della variabile








x = 1


type(x)





1 + 2, 1 - 2, 1 * 2, 1/2


1.0 + 2.0, 1.0 - 2.0, 1.0 * 2.0, 1.0 / 2.0


# Divisione intera tra due numeri float
3.0 // 2.0


# Elevamento a potenza
2 ** 2





True and False


not False


True or False





2 > 1


2 < 1


2 > 2


2 >= 2


# Uguaglianza logica
a=2
b=2
a==b


c=4
d=6
c!=d








s = "Hello world"
type(s)


# Lunghezza di una stringa: il numero di caratteri che la compongono
len(s)





s[0]='c'






s = 'hello'
print(s.capitalize()) # Rende il primo carattere maiuscolo e il resto minuscolo; 
                      # stampa "Hello"
print(s.upper())      # Converte una stringa in maiuscolo;
                      # stampa "HELLO"
print(s.rjust(7))     # Giustifica a destra, aggiungendo spazi;
                      # stampa "  hello"
print(s.center(7))    # Centra una stringa, aggiungendo spazi;
                      # stampa " hello "
print(s.replace('l', '(ell)')) # Sostituisce le istanze di una sottostringa; 
                               # stampa "he(ell)(ell)o"
print(' world '.strip())       # Elimina gli spazi a inizio e fine stringa;
                               # stampa "world"


# Sostituire una sottostringa con un'altra sottostringa
s.replace("world", "test")
print(s)
s1='ciao'
s1.capitalize()





s[0]





s[0:5]


s[4:5]





s[:5]



s[6:]


s[:]





s[::1]


s[::2]


s[-1]  #Restituisce l'ultimo valore della stringa


s[-2]  #Restituisce  il penultimo valore della stringa





str1="ciao "
str2=" come stai"
str2=str1+str2


print(str2) 





str1*2








l = [1,2,3,4]

print(type(l))
print(l)





print(l)

print(l[1:3])

print(l[::2])


l[0]





l = [1, 'a', 1.0, 1-1j]

print(l)





matrice = [[1,2,3],[4,5,6],[7,8,9]]

matrice


matrice[0]  #seleziona la lista 0-esima




matrice[1]  #seleziona la lista 1-esima


matrice[1][1]  #seleziona l'elemento 1 della lista 1





start = 10
stop = 30
step = 2

range(start, stop, step)


# in python 3 range genera un iteratore, che può essere convertito in una lista usando 'list(...)'.
 
list(range(start, stop, step))


list(range(-10, 10))


s='ciao'


# converte una stringa in una lista
s2 = list(s)

s2


# ordinare lists
s2.sort()

print(s2)





# Crea una lista vuota
l = []

# aaggiunge un elemento usando `append`
l.append(1)
l.append(2)
l.append(3)

print(l)





l[1] =5
l[2] = 5

print(l)


l[1:3] = [2,4]

print(l)





l.insert(0, 5)
l.insert(1, 6)
l.insert(2, 7)
l.insert(3, 8)
l.insert(4, 9)
l.insert(5, 10)

print(l)





l.remove(1)

print(l)





del l[7]
del l[6]

print(l)





p1=[2,3,4,5]
p2=[6,7,8,9]
p1+p2





p1*3








p = [3, '4','ciao']
p.append(34)
print('p =', p)
d = p
print('d =', d)
d[3]= 90
print('d =', d)
print('p =', p)






p = [3, '4','ciao']
p.append(34)
print('p =', p)
d = p.copy()
print('d =', d)
d[3]= 90
print('d =', d)
print('p =', p)





a=[[2,3],[4,5]];
b=a.copy()
b[0][1]=6
print("b=",b)
print("a=",a)



import copy
a=[[2,3],[4,5]];
b=copy.deepcopy(a)
b[0][1]=6
print("b=",b)
print("a=",a)








point = (10, 20)

print(point, type(point))


point = 10, 20

print(point, type(point))





x, y = point

print("x =", x)
print("y =", y)





point[0] = 20








rubrica={}  #Inizializzo un dizionario vuoto
rubrica={'Mario':23213,'Francesca':3423, 'Antonio':123131, 'Giada':32131}
rubrica



rubrica.keys()



rubrica.values()


rubrica.get ('Francesca')   #Restituisce il value corrispondente alla parola key Francesca



rubrica['Antonio']









x=float(input('Inserisci un valore float'))


print(x, type(x))






a = 1234.56789
b = [2, 4, 6, 8]
print(a,b)



print('a=',a,'\n b=',b)


a = 1234.56789
b = [2, 4, 6, 8]
c=6
print('a=',a, '\n b=',b)
print('c=',c) 


a = 1234.56789
b = [2, 4, 6, 8]
c=6
print('a=',a, '\n b=',b, end='')
print(' c=',c) 






a=100
n=100
c=12.6
print('Valore di a ={:12.4e} Valore di n ={:6d}, Valore di c ={:5.2f}'.format(a,n,c))












statement1 = False
statement2 = False

if statement1:
    print("statement1  True")
    
elif statement2:
    print("statement2  True")
    
else:
    print("statement1 e statement2   False")








statement1 = statement2 = True

if statement1:
    if statement2:
        print("entrambe statement1 e  statement2 sono True")


# Cattiva indentazione
if statement1:
    if statement2:
    print("entrambe statement1 e  statement2 sono True")  # questa linea non è correttamente indentata
    


statement1 = False 

if statement1:
    print("stampo se statement1 è  True")
    
    print("Ancora dentro il  block if")


if statement1:
    print("stampo se statement1 è  True")
    
print("Adesso fuori del  block if")











for x in [1,2,3]:
    print(x)





for x in range(4): # per default range parte da 0
    print(x)





for x in range(-3,3):
    print(x)


for word in ["scientific", "computing", "with", "python"]:
    print(word)





for key, value in rubrica.items():
    print(key + " = " + str(value))





for idx, x in enumerate(range(-3,3)):
    print(idx, x)








l1 = [x**2 for x in range(0,5)]

print(l1)





i = 0

while i < 5:
    print(i)
    
    i = i + 1
    
print("done")








giorno = "Giovedì"

match giorno:
    case "Lunedì":
        print("Inizio della settimana!")
    case "Martedì":
        print("Secondo giorno della settimana!")
    case "Mercoledì":
        print("Metà della settimana!")
    case other:
        print("Fine settimana")








def func0():   
    print("test")


func0()





def func1(s):
    """
    Questa funzione stampa una stringa e la sua lunghezza in caratteri 
    """
    
    print(s + " ha  " + str(len(s)) + " caratteri")


help(func1)


func1("test")





def square(x):
    """
    Restituisce il quadrato di x.
    """
    return x ** 2


square(4)





def powers(x):
    """
    Restituisce qualche potenza di x
    """
    return x ** 2, x ** 3, x ** 4


powers(3)


x2, x3, x4 = powers(3)

print(x3)








def myfunc(x, p=2, debug=False):
    if debug:
        print("valutazione di  myfunc per  x = " + str(x) + " usando esponente p = " + str(p))
    return x**p





myfunc(5)


myfunc(5, debug=True)





myfunc(p=3, debug=True, x=7)








f1 = lambda x: x**2
    
# è equivalente a 

def f2(x):
    return x**2


f1(2), f2(2)
























