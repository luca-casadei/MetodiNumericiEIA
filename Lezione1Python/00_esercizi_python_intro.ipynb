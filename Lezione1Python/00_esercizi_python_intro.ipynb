{
 "cells": [
  {
   "cell_type": "markdown",
   "metadata": {},
   "source": [
    "# Esercizio n. 1\n",
    "Scrivere un programma che, data una lista (ad esempio, a = [1, 1, 2, 3, 5, 8, 13, 21, 34, 55, 89]) stampa tutti gli elementi della lista che sono minori di 5.\n",
    "\n",
    "Extra:\n",
    "* Invece di stampare gli elementi uno per uno, creare una nuova lista che contenga tutti gli elementi inferiori a 5 dall'elenco di input e stampare questa nuova lista.\n"
   ]
  },
  {
   "cell_type": "code",
   "execution_count": 1,
   "metadata": {},
   "outputs": [
    {
     "name": "stdout",
     "output_type": "stream",
     "text": [
      "[1, 1, 2, 3]\n"
     ]
    }
   ],
   "source": [
    "a = [1, 1, 2, 3, 5, 8, 13, 21, 34, 55, 89]\n",
    "d = []\n",
    "for n in a :\n",
    "    if n < 5 :\n",
    "        d.append(n)\n",
    "print(d)"
   ]
  },
  {
   "cell_type": "markdown",
   "metadata": {},
   "source": [
    "# Esercizio n. 2\n",
    "Scrivere un programma che, date due liste, restituisca una lista che contiene solo gli elementi che sono comuni tra le prime due liste (senza duplicati), ad esempio, usando a = [1, 1, 2, 3, 5, 8, 13, 21, 34, 55, 89], b = [1, 2, 3, 4, 5, 6, 7, 8, 9, 10, 11, 12, 13].\n",
    "\n",
    "Assicurati che il tuo programma funzioni su due liste di dimensioni diverse.\n",
    "\n",
    "Extra:\n",
    "* Scrivere lo stesso programma per restituire  una lista con elementi concatenati tra le liste di input (con ripetizioni)."
   ]
  },
  {
   "cell_type": "code",
   "execution_count": 2,
   "metadata": {},
   "outputs": [
    {
     "name": "stdout",
     "output_type": "stream",
     "text": [
      "[2, 3, 5, 8, 13, 1]\n",
      "[2, 3, 5, 5, 13, 5, 11, 1]\n"
     ]
    }
   ],
   "source": [
    "a = [1, 1, 2, 3, 5, 8, 13, 21, 34, 55, 89]\n",
    "b = [1, 2, 3, 4, 5, 6, 7, 8, 9, 10, 11, 12, 13]\n",
    "d = []\n",
    "\n",
    "iterant = a if len(a) < len(b) else b\n",
    "notIterant = b if len(a) < len(b) else a\n",
    "\n",
    "for n in iterant :\n",
    "    if (n not in d and n in notIterant):\n",
    "        d.insert(-1,n)\n",
    "\n",
    "print(d)\n",
    "\n",
    "a = [1, 1, 2, 3, 5, 8, 13, 13, 21, 34, 55, 89, 11]\n",
    "b = [1, 2, 3, 4, 5, 5, 10 , 13, 5, 11 ]\n",
    "d = []\n",
    "\n",
    "iterant = a if len(a) < len(b) else b\n",
    "notIterant = b if len(a) < len(b) else a\n",
    "\n",
    "for n in iterant :\n",
    "    if (n in notIterant):\n",
    "        d.insert(-1,n)\n",
    "\n",
    "print(d)"
   ]
  },
  {
   "cell_type": "markdown",
   "metadata": {},
   "source": [
    "# Esercizio n. 3\n",
    "Sfruttando la list comprehension, scrivi una riga di codice Python che prende una lista (ad esempio, a = [1, 4, 9, 16, 25, 36, 49, 64, 81, 100]) e crea una nuova lista che ha solo gli elementi pari della lista di partenza. "
   ]
  },
  {
   "cell_type": "code",
   "execution_count": 3,
   "metadata": {},
   "outputs": [
    {
     "name": "stdout",
     "output_type": "stream",
     "text": [
      "[4, 16, 36, 64, 100]\n"
     ]
    }
   ],
   "source": [
    "a = [1, 4, 9, 16, 25, 36, 49, 64, 81, 100]\n",
    "print([x for x in a if x % 2 == 0])"
   ]
  },
  {
   "cell_type": "markdown",
   "metadata": {},
   "source": [
    "# Esercizio n. 4\n",
    "Scrivete un programma per stampare il seguente modello usando i cicli for.\n",
    "\n",
    "```\n",
    "* \n",
    "* * \n",
    "* * * \n",
    "* * * * \n",
    "* * * * * \n",
    "* * * * \n",
    "* * * \n",
    "* * \n",
    "*\n",
    "```"
   ]
  },
  {
   "cell_type": "code",
   "execution_count": 4,
   "metadata": {},
   "outputs": [
    {
     "name": "stdout",
     "output_type": "stream",
     "text": [
      "* \n",
      "* * \n",
      "* * * \n",
      "* * * * \n",
      "* * * * * \n",
      "* * * * \n",
      "* * * \n",
      "* * \n",
      "* \n"
     ]
    }
   ],
   "source": [
    "for a in range(1,6):\n",
    "    print(\"* \" * a)\n",
    "for b in reversed(range(1,5)):\n",
    "    print(\"* \" * b)"
   ]
  },
  {
   "cell_type": "markdown",
   "metadata": {},
   "source": [
    "# Esercizio n. 5\n",
    "Scrivere un programma per controllare se tutti i caratteri di s1 sono contenuti in s2. La posizione del carattere non ha importanza.\n",
    "\n",
    "Ad esempio con s1='by' e s2='blueberry' dovrebbe restituire true. Al contrario, con s1='byZ' e s2='blueberry' dovrebbe restituire false.\n"
   ]
  },
  {
   "cell_type": "code",
   "execution_count": 5,
   "metadata": {},
   "outputs": [
    {
     "name": "stdout",
     "output_type": "stream",
     "text": [
      "True\n"
     ]
    }
   ],
   "source": [
    "s1='bly'\n",
    "s2='blueberry'\n",
    "out = True\n",
    "for l in [*s1]:\n",
    "    if l not in [*s2]:\n",
    "        out = False\n",
    "print(out)"
   ]
  },
  {
   "cell_type": "markdown",
   "metadata": {},
   "source": [
    "# Esercizio n. 6\n",
    "Crea una funzione che accetta due numeri interi come parametri di input e se il loro prodotto è minore di 1000 restituisce il prodotto, altrimenti restituisce la somma dei numeri di input.\n",
    "\n",
    "Extra:\n",
    "* Scrivere lo stesso programma utilizzando il parametro soglia (1000) come parametro opzionale di input. Ciò significa che questo parametro deve essere definito al suo valore predefinito nella funzione. Testare la funzione modificando la soglia quando la si chiama."
   ]
  },
  {
   "cell_type": "code",
   "execution_count": 10,
   "metadata": {},
   "outputs": [
    {
     "name": "stdin",
     "output_type": "stream",
     "text": [
      " 10\n",
      " 200\n"
     ]
    },
    {
     "name": "stdout",
     "output_type": "stream",
     "text": [
      "210\n"
     ]
    }
   ],
   "source": [
    "val = int(input())\n",
    "val2 = int(input())\n",
    "mul = val * val2\n",
    "if mul < 1000:\n",
    "    print(mul)\n",
    "else:\n",
    "    print(val2 + val)"
   ]
  },
  {
   "cell_type": "markdown",
   "metadata": {},
   "source": [
    "# Esercizio n. 7\n",
    "Scrivi una funzione Python che, presa in input una lista:\n",
    "* restituisca la somma e il prodotto degli elementi contenuti in una lista\n",
    "\n",
    "Scrivi una funzione Python che, presa in input una lista:\n",
    "* restituisca la somma o il prodotto degli elementi della lista a seconda di un parametro di input aggiuntivo specificato dall'utente.\n"
   ]
  },
  {
   "cell_type": "code",
   "execution_count": 6,
   "metadata": {},
   "outputs": [
    {
     "name": "stdout",
     "output_type": "stream",
     "text": [
      "45 -11040\n"
     ]
    }
   ],
   "source": [
    "a = [2,4,1,6,10,23,-1]\n",
    "sum_a = 0\n",
    "for x in a:\n",
    "    sum_a += x\n",
    "mul_a = 1\n",
    "for x in a:\n",
    "    mul_a *= x\n",
    "print(sum_a, mul_a)"
   ]
  },
  {
   "cell_type": "markdown",
   "metadata": {
    "ExecuteTime": {
     "end_time": "2023-02-21T00:10:18.015779Z",
     "start_time": "2023-02-21T00:10:17.978520Z"
    }
   },
   "source": [
    "# Esercizio n. 8\n",
    "Dato una lista di numeri interi, ad esempio x = [0,1,2,3,4,5,6,7,8,9,], eleva al quadrato tutti i suoi valori in un nuovo elenco y. Usa la list comprehension per farlo.\n",
    "\n",
    "* Traccia y su x usando la libreria matplotlib. Aggiungi anche un indicatore per ogni punto (ad esempio, un indicatore quadrato).\n",
    "\n",
    "* Prova a modificare alcuni parametri della trama come:\n",
    "     * colore\n",
    "     * etichetta x, etichetta y\n",
    "     * grid(axis='y')# \n",
    "     * titolo\n",
    "     * larghezza della linea\n",
    "\n",
    "* Tracciare una seconda curva (ad esempio, una relazione cubica o lineare semplice su x) sulla curva precedente.\n",
    "* Invece di tracciare le due curve in un unico grafico, riportarle su due subplot distinti organizzati per colonne (ad esempio, subplot(1,2,1) e subplot(1,2,2))."
   ]
  },
  {
   "cell_type": "code",
   "execution_count": 7,
   "metadata": {},
   "outputs": [
    {
     "data": {
      "text/plain": [
       "<matplotlib.legend.Legend at 0x1df45b69b50>"
      ]
     },
     "execution_count": 7,
     "metadata": {},
     "output_type": "execute_result"
    },
    {
     "data": {
      "image/png": "[encoded data removed]",
      "text/plain": [
       "<Figure size 640x480 with 1 Axes>"
      ]
     },
     "metadata": {},
     "output_type": "display_data"
    }
   ],
   "source": [
    "import matplotlib.pyplot as plotter\n",
    "x = [0,1,2,3,4,5,6,7,8,9,]\n",
    "fx_square = [n**2 for n in x]\n",
    "fx_cubic = [n**3 for n in x]\n",
    "plotter.title(\"Esponente quadrato\")\n",
    "plotter.xlabel(\"x\")\n",
    "plotter.ylabel(\"y\")\n",
    "plotter.plot(x,fx_square,\"bs-\")\n",
    "plotter.plot(x,fx_cubic,\"ro-\")\n",
    "plotter.legend([\"Square\",\"Cubic\"])"
   ]
  },
  {
   "cell_type": "code",
   "execution_count": 8,
   "metadata": {},
   "outputs": [
    {
     "data": {
      "image/png": "[encoded data removed]",
      "text/plain": [
       "<Figure size 640x480 with 2 Axes>"
      ]
     },
     "metadata": {},
     "output_type": "display_data"
    }
   ],
   "source": [
    "import matplotlib.pyplot as plotter\n",
    "x = [0,1,2,3,4,5,6,7,8,9,]\n",
    "fx_square = [n**2 for n in x]\n",
    "fx_cubic = [n**3 for n in x]\n",
    "plotter.subplot(1,2,1)\n",
    "plotter.title(\"Esponente quadrato\")\n",
    "plotter.plot(x,fx_square,\"y-\")\n",
    "plotter.subplot(1,2,2)\n",
    "plotter.plot(x,fx_cubic,\"r-\",linewidth=3)\n",
    "plotter.title(\"Esponente cubico\")\n",
    "plotter.grid(True)"
   ]
  }
 ],
 "metadata": {
  "kernelspec": {
   "display_name": "Python 3 (ipykernel)",
   "language": "python",
   "name": "python3"
  },
  "language_info": {
   "codemirror_mode": {
    "name": "ipython",
    "version": 3
   },
   "file_extension": ".py",
   "mimetype": "text/x-python",
   "name": "python",
   "nbconvert_exporter": "python",
   "pygments_lexer": "ipython3",
   "version": "3.11.7"
  },
  "varInspector": {
   "cols": {
    "lenName": 16,
    "lenType": 16,
    "lenVar": 40
   },
   "kernels_config": {
    "python": {
     "delete_cmd_postfix": "",
     "delete_cmd_prefix": "del ",
     "library": "var_list.py",
     "varRefreshCmd": "print(var_dic_list())"
    },
    "r": {
     "delete_cmd_postfix": ") ",
     "delete_cmd_prefix": "rm(",
     "library": "var_list.r",
     "varRefreshCmd": "cat(var_dic_list()) "
    }
   },
   "types_to_exclude": [
    "module",
    "function",
    "builtin_function_or_method",
    "instance",
    "_Feature"
   ],
   "window_display": false
  }
 },
 "nbformat": 4,
 "nbformat_minor": 4
}
