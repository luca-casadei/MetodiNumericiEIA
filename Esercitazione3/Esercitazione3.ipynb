{
 "cells": [
  {
   "cell_type": "markdown",
   "id": "cd8d6a57-49d8-4eab-bb0f-107b277ad3d1",
   "metadata": {},
   "source": [
    "## Esercizi sui Numpy array  5 Marzo 2024\n"
   ]
  },
  {
   "cell_type": "markdown",
   "id": "d3445102-1135-4f49-8673-dcba181f883b",
   "metadata": {},
   "source": [
    "**Esercizio 1**\n",
    "\n",
    "Confrontare il tempo di esecuzione dei due metodi per la creazione di un numpy array di 2000000 di elementi equidistanti nell'intervallo [-4,4]:\n",
    "\n",
    "    1) costruzione con utilizzo di np.linspace\n",
    "    \n",
    "    2) Assegnazione manuale dei valori nel ciclo.\n",
    "    "
   ]
  },
  {
   "cell_type": "code",
   "execution_count": 1,
   "id": "90663a0d-a9c0-4160-8247-63765a4b0a61",
   "metadata": {},
   "outputs": [
    {
     "name": "stdout",
     "output_type": "stream",
     "text": [
      "[-4.       -3.999996 -3.999992 ...  3.999992  3.999996  4.      ]\n"
     ]
    }
   ],
   "source": [
    "import numpy as np\n",
    "print(np.linspace(-4, 4, num=2000000))\n",
    "# lng = np.array([])\n",
    "# i = -4\n",
    "# while i < 4:\n",
    "#    i = i + (1 / 2000000)\n",
    "#    np.append(lng, i)\n",
    "# print(lng)"
   ]
  },
  {
   "cell_type": "markdown",
   "id": "59db5cfc-4e88-42a8-afc7-1d666abd0abc",
   "metadata": {},
   "source": [
    "**Esercizio 2**\n",
    "\n",
    "-     Creare un numpy array 1D (chiamato c) di valori equidistanti tra 7 e 41 con step 2.\n",
    "\n",
    "-      Trasformare l'array c in un numpy array 2d (chiamato c1) con shape (2,9) usando il metodo .reshape((m,n))\n",
    "\n",
    "-       Determinare se c1 e' una copia o una vista dell'originale."
   ]
  },
  {
   "cell_type": "code",
   "execution_count": 2,
   "id": "d98a2918-6784-44ae-80f6-1ea99be2ae4d",
   "metadata": {},
   "outputs": [
    {
     "name": "stdout",
     "output_type": "stream",
     "text": [
      "[[ 7  9 11 13 15 17 19 21 23]\n",
      " [25 27 29 31 33 35 37 39 41]] [ 7  9 11 13 15 17 19 21 23 25 27 29 31 33 35 37 39 41]\n",
      "[[ 0  0  0  0  0  0  0  0  0]\n",
      " [25 27 29 31 33 35 37 39 41]] [ 0  0  0  0  0  0  0  0  0 25 27 29 31 33 35 37 39 41]\n",
      "E' una view, dato che se modifico c1 si modifica anche c\n"
     ]
    }
   ],
   "source": [
    "import numpy as np\n",
    "c = np.arange(7, 42, 2)\n",
    "c1 = c.reshape((2, 9))\n",
    "print(c1, c)\n",
    "c1[0] = np.zeros((1, 9))\n",
    "print(c1, c)\n",
    "print(\"E' una view, dato che se modifico c1 si modifica anche c\")"
   ]
  },
  {
   "cell_type": "markdown",
   "id": "7b81197a-a950-48ab-8e75-31855ac69d9d",
   "metadata": {},
   "source": [
    "**Esercizio 3**\n",
    "\n",
    "-     Costruire un numpy array 1d, denominato $C$ di valori che variano tra 15 e 41 con step 2\n",
    "\n",
    "-     Trasformarlo in un numpy array 2d con shape(7,2) usando il metodo . resize(7,2)  che lavora in-place,  (cioè  modifica l'array esistente, non è necessario creare una copia). Verificare la shape di C e dire se C è copia o vista?"
   ]
  },
  {
   "cell_type": "code",
   "execution_count": 3,
   "id": "57b7c83c-287b-46b6-b2a5-424f975844cf",
   "metadata": {},
   "outputs": [
    {
     "name": "stdout",
     "output_type": "stream",
     "text": [
      "[15 17 19 21 23 25 27 29 31 33 35 37 39 41] [[15 17]\n",
      " [19 21]\n",
      " [23 25]\n",
      " [27 29]\n",
      " [31 33]\n",
      " [35 37]\n",
      " [39 41]]\n",
      "Copia\n"
     ]
    }
   ],
   "source": [
    "C = np.arange(15, 42, 2)\n",
    "C1 = np.resize(C, (7, 2))\n",
    "print(C, C1)\n",
    "print(\"View\" if np.shares_memory(C, C1) else \"Copia\")"
   ]
  },
  {
   "cell_type": "markdown",
   "id": "d1adc080-9ce4-404c-ba18-c831f2625214",
   "metadata": {},
   "source": [
    "**Esercizio 4**\n",
    "\n",
    "-      Costruire il numpy array  s  formato da 100 valori equidistanti in  [0,4],\n",
    "\n",
    "-      considerarne il reshape in un array 2d che ha 4 righe con un numero opportuno di colonne"
   ]
  },
  {
   "cell_type": "code",
   "execution_count": 4,
   "id": "ef714926-b6a3-4a0c-96cb-16a9da421360",
   "metadata": {},
   "outputs": [
    {
     "name": "stdout",
     "output_type": "stream",
     "text": [
      "[[0.         0.04040404 0.08080808 0.12121212 0.16161616 0.2020202\n",
      "  0.24242424 0.28282828 0.32323232 0.36363636 0.4040404  0.44444444\n",
      "  0.48484848 0.52525253 0.56565657 0.60606061 0.64646465 0.68686869\n",
      "  0.72727273 0.76767677 0.80808081 0.84848485 0.88888889 0.92929293\n",
      "  0.96969697]\n",
      " [1.01010101 1.05050505 1.09090909 1.13131313 1.17171717 1.21212121\n",
      "  1.25252525 1.29292929 1.33333333 1.37373737 1.41414141 1.45454545\n",
      "  1.49494949 1.53535354 1.57575758 1.61616162 1.65656566 1.6969697\n",
      "  1.73737374 1.77777778 1.81818182 1.85858586 1.8989899  1.93939394\n",
      "  1.97979798]\n",
      " [2.02020202 2.06060606 2.1010101  2.14141414 2.18181818 2.22222222\n",
      "  2.26262626 2.3030303  2.34343434 2.38383838 2.42424242 2.46464646\n",
      "  2.50505051 2.54545455 2.58585859 2.62626263 2.66666667 2.70707071\n",
      "  2.74747475 2.78787879 2.82828283 2.86868687 2.90909091 2.94949495\n",
      "  2.98989899]\n",
      " [3.03030303 3.07070707 3.11111111 3.15151515 3.19191919 3.23232323\n",
      "  3.27272727 3.31313131 3.35353535 3.39393939 3.43434343 3.47474747\n",
      "  3.51515152 3.55555556 3.5959596  3.63636364 3.67676768 3.71717172\n",
      "  3.75757576 3.7979798  3.83838384 3.87878788 3.91919192 3.95959596\n",
      "  4.        ]]\n"
     ]
    }
   ],
   "source": [
    "s = np.linspace(0, 4, 100)\n",
    "sView = s.reshape((4, int(100/4)))\n",
    "print(sView)"
   ]
  },
  {
   "cell_type": "markdown",
   "id": "d40f5d7a-4808-4004-b806-b8b75bcaa01b",
   "metadata": {},
   "source": [
    "**Esercizio 5**\n",
    "\n",
    "-     Costruire il numpy array s formato da 100 valori equidistanti in  [0,4]\n",
    "-     considerarne il reshape in un array 2d che ha 4 colonne con un numero opportuno di righe"
   ]
  },
  {
   "cell_type": "code",
   "execution_count": 5,
   "id": "1c259e07-0a02-43ad-b251-5a3395145bb1",
   "metadata": {},
   "outputs": [
    {
     "name": "stdout",
     "output_type": "stream",
     "text": [
      "[[0.         0.04040404 0.08080808 0.12121212]\n",
      " [0.16161616 0.2020202  0.24242424 0.28282828]\n",
      " [0.32323232 0.36363636 0.4040404  0.44444444]\n",
      " [0.48484848 0.52525253 0.56565657 0.60606061]\n",
      " [0.64646465 0.68686869 0.72727273 0.76767677]\n",
      " [0.80808081 0.84848485 0.88888889 0.92929293]\n",
      " [0.96969697 1.01010101 1.05050505 1.09090909]\n",
      " [1.13131313 1.17171717 1.21212121 1.25252525]\n",
      " [1.29292929 1.33333333 1.37373737 1.41414141]\n",
      " [1.45454545 1.49494949 1.53535354 1.57575758]\n",
      " [1.61616162 1.65656566 1.6969697  1.73737374]\n",
      " [1.77777778 1.81818182 1.85858586 1.8989899 ]\n",
      " [1.93939394 1.97979798 2.02020202 2.06060606]\n",
      " [2.1010101  2.14141414 2.18181818 2.22222222]\n",
      " [2.26262626 2.3030303  2.34343434 2.38383838]\n",
      " [2.42424242 2.46464646 2.50505051 2.54545455]\n",
      " [2.58585859 2.62626263 2.66666667 2.70707071]\n",
      " [2.74747475 2.78787879 2.82828283 2.86868687]\n",
      " [2.90909091 2.94949495 2.98989899 3.03030303]\n",
      " [3.07070707 3.11111111 3.15151515 3.19191919]\n",
      " [3.23232323 3.27272727 3.31313131 3.35353535]\n",
      " [3.39393939 3.43434343 3.47474747 3.51515152]\n",
      " [3.55555556 3.5959596  3.63636364 3.67676768]\n",
      " [3.71717172 3.75757576 3.7979798  3.83838384]\n",
      " [3.87878788 3.91919192 3.95959596 4.        ]]\n"
     ]
    }
   ],
   "source": [
    "s = np.linspace(0, 4, 100)\n",
    "sView = s.reshape((25, 4))\n",
    "print(sView)"
   ]
  },
  {
   "cell_type": "markdown",
   "id": "6df0f7e2-8d6d-45e3-b6c8-73ed973b62f0",
   "metadata": {},
   "source": [
    "**Esercizio 6**  \n",
    "\n",
    "-     Scrivere il numpy  array 2d, A, [[10,11,12],[13,14,15],[16,17,18]] \n",
    "-     trasformarlo in un numpy array 1d usando il metodo .ravel()  \n",
    "-     Si tratta di una copia o di una vista?"
   ]
  },
  {
   "cell_type": "code",
   "execution_count": 6,
   "id": "224e84d4-27cb-4c7a-9fed-153fff96403e",
   "metadata": {},
   "outputs": [
    {
     "name": "stdout",
     "output_type": "stream",
     "text": [
      "[10 11 12 13 14 15 16 17 18]\n",
      "View\n"
     ]
    }
   ],
   "source": [
    "A = np.array([[10, 11, 12], [13, 14, 15], [16, 17, 18]])\n",
    "ravel = A.ravel()\n",
    "print(ravel)\n",
    "print(\"View\" if np.shares_memory(A,ravel) else \"Copy\")"
   ]
  },
  {
   "cell_type": "markdown",
   "id": "19559c2a-0ac7-4d4a-b6ff-38e58843b3b6",
   "metadata": {},
   "source": [
    "**Esercizio 7**  \n",
    "\n",
    "-     Scrivere il numpy  array 2d, A, [[10,11,12],[13,14,15],[16,17,18]] \n",
    "-     trasformarlo in un numpy array 1d usando il metodo  .flatten().\n",
    "-     Si tratta di una copia o di una vista?"
   ]
  },
  {
   "cell_type": "code",
   "execution_count": 7,
   "id": "bef00f09-22bf-4cf5-829c-dbf6aa5c0471",
   "metadata": {},
   "outputs": [
    {
     "name": "stdout",
     "output_type": "stream",
     "text": [
      "[10 11 12 13 14 15 16 17 18]\n",
      "Copy\n"
     ]
    }
   ],
   "source": [
    "flat = A.flatten()\n",
    "print(flat)\n",
    "print(\"View\" if np.shares_memory(A, flat) else \"Copy\")"
   ]
  },
  {
   "cell_type": "markdown",
   "id": "c77c2529-d680-42c9-9231-3aca724b1c12",
   "metadata": {},
   "source": [
    "**Esercizio 8** \n",
    "\n",
    "-     creare i due  numpy array 1d\n",
    "        f1= [ 0  1  2  3  4  5  6  7  8  9 10 11 12 13 14 15]  \n",
    "        f2= [16 17 18 19 20 21 22 23 24 25 26 27 28 29 30 31]\n",
    "-     \"vederli\" come matrici  4x4 ed effettuarne il prodotto scalare, memorizzando in f3 la matrice che nasce dal loro prodotto."
   ]
  },
  {
   "cell_type": "code",
   "execution_count": 8,
   "id": "979e6969-bce9-47d4-826d-393650a222f0",
   "metadata": {},
   "outputs": [
    {
     "name": "stdout",
     "output_type": "stream",
     "text": [
      "[[ 0  1  2  3]\n",
      " [ 4  5  6  7]\n",
      " [ 8  9 10 11]\n",
      " [12 13 14 15]]\n",
      "[[16 17 18 19]\n",
      " [20 21 22 23]\n",
      " [24 25 26 27]\n",
      " [28 29 30 31]]\n",
      "3160\n"
     ]
    }
   ],
   "source": [
    "f1 = np.array([0, 1, 2, 3, 4, 5, 6, 7 , 8, 9, 10, 11, 12, 13, 14, 15])  \n",
    "f2 = np.array([16, 17, 18, 19, 20, 21, 22, 23, 24, 25, 26, 27, 28, 29, 30, 31])\n",
    "f1MatView = np.reshape(f1, (4, 4))\n",
    "f2MatView = np.reshape(f2, (4, 4))\n",
    "print(f1MatView)\n",
    "print(f2MatView)\n",
    "f3 = np.dot(f1, f2)\n",
    "print(f3)"
   ]
  },
  {
   "cell_type": "markdown",
   "id": "c9249961-c220-46c0-9e0d-e59dfefe662c",
   "metadata": {},
   "source": [
    "**Esercizio 9**    \n",
    "\n",
    " Costruire:\n",
    "-      Numpy Array A di shape (2,10) : array di valori random campionati da una distribuzione gaussiana con media 0 e varianza 1.\n",
    " -     Numpy array 1D B di shape (20,) formato dagli interi da 0 a 19.\n",
    " \n",
    " \"Vedere\" A come un array 1D di 20 elementi ed effettuare la somma di A+B\n",
    "\n"
   ]
  },
  {
   "cell_type": "code",
   "execution_count": 9,
   "id": "425b14b3-8966-4d6a-83f4-22ad671753e3",
   "metadata": {},
   "outputs": [
    {
     "name": "stdout",
     "output_type": "stream",
     "text": [
      "[[-0.11401316  1.63961339 -2.43166012 -1.18044584 -1.36928168 -0.00893146\n",
      "  -0.89245557  2.21343171  0.98452929 -0.32684312]\n",
      " [-0.6862678  -0.73038296 -0.07573242 -0.37078825 -0.0849475  -0.96608242\n",
      "   1.31360222 -0.74863965  0.22264947  1.65621923]]\n",
      "[ 0  1  2  3  4  5  6  7  8  9 10 11 12 13 14 15 16 17 18 19]\n",
      "[-0.11401316  2.63961339 -0.43166012  1.81955416  2.63071832  4.99106854\n",
      "  5.10754443  9.21343171  8.98452929  8.67315688  9.3137322  10.26961704\n",
      " 11.92426758 12.62921175 13.9150525  14.03391758 17.31360222 16.25136035\n",
      " 18.22264947 20.65621923]\n"
     ]
    }
   ],
   "source": [
    "A = np.random.randn(2,10)\n",
    "print(A)\n",
    "B = np.arange(0, 20)\n",
    "print(B)\n",
    "viewTransformed = A.reshape((20,))\n",
    "print(viewTransformed + B)"
   ]
  },
  {
   "cell_type": "markdown",
   "id": "7f6cf29e-d14a-46c9-8f35-e66151a9e0a3",
   "metadata": {},
   "source": [
    "**Esercizio 10** \n",
    "-     Creare un array 2D di shape (5,5), denominato B2, con valori tutti uguali a 15.\n",
    "-     Creare una copia B3 di B2. Modificare l'elemento B3[0,0] assegnandogli il valore 150. \n",
    "-     Stampare il numpy array B2 ed il numpy array B3 e verificare che B2, dopo la modifica di B3, è rimasto inalterato"
   ]
  },
  {
   "cell_type": "code",
   "execution_count": 10,
   "id": "5d932459-d8d5-4f09-a2da-c4479af4cb14",
   "metadata": {},
   "outputs": [
    {
     "name": "stdout",
     "output_type": "stream",
     "text": [
      "[[15 15 15 15 15]\n",
      " [15 15 15 15 15]\n",
      " [15 15 15 15 15]\n",
      " [15 15 15 15 15]\n",
      " [15 15 15 15 15]] \n",
      " [[150  15  15  15  15]\n",
      " [ 15  15  15  15  15]\n",
      " [ 15  15  15  15  15]\n",
      " [ 15  15  15  15  15]\n",
      " [ 15  15  15  15  15]]\n"
     ]
    }
   ],
   "source": [
    "B2 = np.full((5, 5), 15)\n",
    "B3 = B2.copy()\n",
    "B3[0, 0] = 150\n",
    "print(B2, \"\\n\", B3)"
   ]
  },
  {
   "cell_type": "markdown",
   "id": "22c456d1-2897-412c-99c1-e9b19cbab4e7",
   "metadata": {},
   "source": [
    "**Esercizio 11**   \n",
    "\n",
    "-     Costruire  un numpy array 1D, di shape (10,) denominato  f , costituito da 10 valori equidistanti nell'intervallo [0,1]\n",
    "-     aumentarne la dimensionalità, in maniera tale che abbia shape (10,1)"
   ]
  },
  {
   "cell_type": "code",
   "execution_count": 11,
   "id": "d83c15f1-3b38-4514-9ed7-0b98e99bbb67",
   "metadata": {},
   "outputs": [
    {
     "name": "stdout",
     "output_type": "stream",
     "text": [
      "[0.         0.11111111 0.22222222 0.33333333 0.44444444 0.55555556\n",
      " 0.66666667 0.77777778 0.88888889 1.        ]\n"
     ]
    }
   ],
   "source": [
    "f = np.linspace(0, 1, 10)\n",
    "f.reshape((10, 1))\n",
    "print(f)"
   ]
  },
  {
   "cell_type": "markdown",
   "id": "2866db7c-cbcb-431e-bc6a-2645577a65e8",
   "metadata": {},
   "source": [
    "- **Esercizio 12**\n",
    "-     Costruire i seguenti numpy array\n",
    "      a= np.array([14,13,12,11])\n",
    "      b=np.array([[4,3,2,1],[9,10,11,12]])\n",
    "\n",
    "  Costruire il numpy array che si ottiene concatenando a e b per righe\n"
   ]
  },
  {
   "cell_type": "code",
   "execution_count": 12,
   "id": "9c59ece0-45db-4f57-a840-4d2718961428",
   "metadata": {},
   "outputs": [
    {
     "data": {
      "text/plain": [
       "array([[ 4,  3,  2,  1],\n",
       "       [ 9, 10, 11, 12],\n",
       "       [14, 13, 12, 11]])"
      ]
     },
     "execution_count": 12,
     "metadata": {},
     "output_type": "execute_result"
    }
   ],
   "source": [
    "a = np.array([[14,13,12,11]])\n",
    "b = np.array([[4,3,2,1],[9,10,11,12]])\n",
    "np.concatenate((b,a),axis=0)"
   ]
  },
  {
   "cell_type": "markdown",
   "id": "d57c7290-27ce-4dce-a8e2-6b89124ed223",
   "metadata": {},
   "source": [
    "- **Esercizio 13**\n",
    "-     Costruire i seguenti numpy array\n",
    "      a= np.array([14,13,12,11])\n",
    "      b=np.array([[4,3,2,1],[9,10,11,12],[4,3,2,1],[9,10,11,12]])\n",
    "\n",
    "-\n",
    "- Costruire il numpy array che si ottiene concatenando a e b per colonne"
   ]
  },
  {
   "cell_type": "code",
   "execution_count": 13,
   "id": "f1d96493-a2e1-4095-b291-944c12ddf749",
   "metadata": {},
   "outputs": [
    {
     "data": {
      "text/plain": [
       "array([[14,  4,  3,  2,  1],\n",
       "       [13,  9, 10, 11, 12],\n",
       "       [12,  4,  3,  2,  1],\n",
       "       [11,  9, 10, 11, 12]])"
      ]
     },
     "execution_count": 13,
     "metadata": {},
     "output_type": "execute_result"
    }
   ],
   "source": [
    "a = np.array([[14,13,12,11]])\n",
    "b = np.array([[4,3,2,1],[9,10,11,12],[4,3,2,1],[9,10,11,12]])\n",
    "np.concatenate((a.T,b),axis=1)"
   ]
  },
  {
   "cell_type": "markdown",
   "id": "7c6eb421-0e1f-445b-b72f-7d2a2451fcb4",
   "metadata": {},
   "source": [
    "**Esercizio 14**\n",
    "\n",
    "Costruire, facendo uso di una sola riga di codice, la matrice A di ordine 10, che ha gli unici elementi diversi da zero, sulla diagonale princiaple, sulla codiagonale inferiore e sulla codiagonale superiore:\n",
    "\n",
    "elementi diagonali $A_{i,i}=10 \\quad$, i=1,20\n",
    "\n",
    "elementi nella codiagonale inferiore $A_{i-1,i}=-12, \\quad$ i=2,..,20, \n",
    "\n",
    "elementi nella codiagonale superiore $A_{i,i+1}=-2 \\quad$ i=1,..,19"
   ]
  },
  {
   "cell_type": "code",
   "execution_count": 14,
   "id": "754c2c0a-0d4c-4602-b385-a9f6332c44c5",
   "metadata": {},
   "outputs": [
    {
     "name": "stdout",
     "output_type": "stream",
     "text": [
      "[[  1.  -2.   0.   0.   0.   0.   0.   0.   0.   0.]\n",
      " [-12.   1.  -2.   0.   0.   0.   0.   0.   0.   0.]\n",
      " [  0. -12.   1.  -2.   0.   0.   0.   0.   0.   0.]\n",
      " [  0.   0. -12.   1.  -2.   0.   0.   0.   0.   0.]\n",
      " [  0.   0.   0. -12.   1.  -2.   0.   0.   0.   0.]\n",
      " [  0.   0.   0.   0. -12.   1.  -2.   0.   0.   0.]\n",
      " [  0.   0.   0.   0.   0. -12.   1.  -2.   0.   0.]\n",
      " [  0.   0.   0.   0.   0.   0. -12.   1.  -2.   0.]\n",
      " [  0.   0.   0.   0.   0.   0.   0. -12.   1.  -2.]\n",
      " [  0.   0.   0.   0.   0.   0.   0.   0. -12.   1.]]\n"
     ]
    }
   ],
   "source": [
    "A = np.eye(10,10) + np.eye(10,10,k=-1) * -12 + np.eye(10,10,k=1) * -2\n",
    "print(A)"
   ]
  },
  {
   "cell_type": "markdown",
   "id": "bae8a3dc-e71c-4ff4-8062-2d66c377d63f",
   "metadata": {},
   "source": [
    "**Esercizio 15**\n",
    "\n",
    "Costruire la matrice identità, denominata *I*,  della stessa dimensione di *A*"
   ]
  },
  {
   "cell_type": "code",
   "execution_count": 15,
   "id": "c385bf37-3c7a-4bdc-b67d-dbff63fbba50",
   "metadata": {},
   "outputs": [
    {
     "name": "stdout",
     "output_type": "stream",
     "text": [
      "[[1. 0. 0. 0. 0. 0. 0. 0. 0. 0.]\n",
      " [0. 1. 0. 0. 0. 0. 0. 0. 0. 0.]\n",
      " [0. 0. 1. 0. 0. 0. 0. 0. 0. 0.]\n",
      " [0. 0. 0. 1. 0. 0. 0. 0. 0. 0.]\n",
      " [0. 0. 0. 0. 1. 0. 0. 0. 0. 0.]\n",
      " [0. 0. 0. 0. 0. 1. 0. 0. 0. 0.]\n",
      " [0. 0. 0. 0. 0. 0. 1. 0. 0. 0.]\n",
      " [0. 0. 0. 0. 0. 0. 0. 1. 0. 0.]\n",
      " [0. 0. 0. 0. 0. 0. 0. 0. 1. 0.]\n",
      " [0. 0. 0. 0. 0. 0. 0. 0. 0. 1.]]\n"
     ]
    }
   ],
   "source": [
    "I = np.eye(A.shape[0],A.shape[1])\n",
    "print(I)"
   ]
  },
  {
   "cell_type": "markdown",
   "id": "612458f4-d8f6-4015-ae74-042d73cbd9f9",
   "metadata": {},
   "source": [
    "**Esercizio 16**\n",
    "\n",
    "Facendo uso dell'operatore slicing *:* ,costruire la matrice AA selezionando dalla matrice A le righe che vanno dalla 2 alla 9 con step 2 e le colonne che vanno dalla 3 alla 6 con step 2.\n",
    "La matrice AA è una vista o una copia?\n"
   ]
  },
  {
   "cell_type": "code",
   "execution_count": 16,
   "id": "88a98bfb-41d9-48cd-b249-d39fb5ed3cc3",
   "metadata": {},
   "outputs": [
    {
     "name": "stdout",
     "output_type": "stream",
     "text": [
      "[[ -2.   0.]\n",
      " [-12.  -2.]\n",
      " [  0. -12.]\n",
      " [  0.   0.]]\n",
      "Vista\n"
     ]
    }
   ],
   "source": [
    "AA = A[2:9:2,3:6:2]\n",
    "print(AA)\n",
    "print(\"Vista\" if np.shares_memory(A,AA) else \"Copia\")"
   ]
  },
  {
   "cell_type": "markdown",
   "id": "db2a4f82-fe57-4763-bd58-9921869c671c",
   "metadata": {},
   "source": [
    "**Esercizio 17**\n",
    "\n",
    "Facendo uso dell'operatore slicing *:*, costruire la matrice A1 selezionando dalla matrice A le colonne che vanno dalla 1 alla 5 con step 2.  Trasforma la matrice A1 in una copia."
   ]
  },
  {
   "cell_type": "code",
   "execution_count": 17,
   "id": "a3f1a9d0-a983-432d-a992-03ea24365436",
   "metadata": {},
   "outputs": [
    {
     "name": "stdout",
     "output_type": "stream",
     "text": [
      "A1 è una copia\n"
     ]
    }
   ],
   "source": [
    "A1 = A[0:10,1:5:2]\n",
    "A1 = A1.copy()\n",
    "print(\"A1 è una \" + (\"vista\" if np.shares_memory(A,A1) else \"copia\"))"
   ]
  },
  {
   "cell_type": "markdown",
   "id": "f5a336bc-5cf9-4400-ae23-4be1f35521de",
   "metadata": {
    "tags": []
   },
   "source": [
    "**Esercizio 18**\n",
    "\n",
    "Costruisci due numpy array A e B di shape (5,5) \n",
    "   - A formata da numeri interi casuali  nell'intervallo [1,20]\n",
    "   - B formata da numeri interi casuali  nell'intervallo [1,6]\n",
    " \n",
    "  Costruisci con una sola riga di codice le seguenti matrici\n",
    "  \n",
    "  C=A+B   dove  $\\quad c_{ij}=a_{ij}+b_{ij} \\quad i=0,..,n, \\quad j=0,...,n$\n",
    "  \n",
    "  D=A-B   dove  $\\quad d_{ij}=a_{ij}-b_{ij} \\quad i=0,..,n, \\quad j=0,...,n$\n",
    "  \n",
    "  E=A*B   dove  $\\quad e_{ij}=a_{ij}*b_{ij} \\quad i=0,..,n, \\quad j=0,...,n$\n",
    "  \n",
    "  F=A\\B   dove  $\\quad f_{ij}=a_{ij}/b_{ij} \\quad i=0,..,n, \\quad j=0,...,n$"
   ]
  },
  {
   "cell_type": "code",
   "execution_count": 18,
   "id": "60ce47c2-4564-4340-ac77-67bd333561d9",
   "metadata": {},
   "outputs": [
    {
     "name": "stdout",
     "output_type": "stream",
     "text": [
      "A = \n",
      " [[12 17 18 14  5]\n",
      " [ 5 20  7 19  8]\n",
      " [17 11  9  4 19]\n",
      " [ 2 15  2 19 20]\n",
      " [ 1 17  1 14 16]]\n",
      "B = \n",
      " [[5 1 1 5 3]\n",
      " [3 2 3 3 3]\n",
      " [1 1 3 2 5]\n",
      " [4 4 3 3 1]\n",
      " [4 4 4 2 2]]\n",
      "C = \n",
      " [[17 18 19 19  8]\n",
      " [ 8 22 10 22 11]\n",
      " [18 12 12  6 24]\n",
      " [ 6 19  5 22 21]\n",
      " [ 5 21  5 16 18]]\n",
      "D = \n",
      " [[ 7 16 17  9  2]\n",
      " [ 2 18  4 16  5]\n",
      " [16 10  6  2 14]\n",
      " [-2 11 -1 16 19]\n",
      " [-3 13 -3 12 14]]\n",
      "E = \n",
      " [[60 17 18 70 15]\n",
      " [15 40 21 57 24]\n",
      " [17 11 27  8 95]\n",
      " [ 8 60  6 57 20]\n",
      " [ 4 68  4 28 32]]\n",
      "F = \n",
      " [[ 2.4        17.         18.          2.8         1.66666667]\n",
      " [ 1.66666667 10.          2.33333333  6.33333333  2.66666667]\n",
      " [17.         11.          3.          2.          3.8       ]\n",
      " [ 0.5         3.75        0.66666667  6.33333333 20.        ]\n",
      " [ 0.25        4.25        0.25        7.          8.        ]]\n"
     ]
    }
   ],
   "source": [
    "A = np.random.randint(1,21,(5,5))\n",
    "B = np.random.randint(1,6,(5,5))\n",
    "C = A + B\n",
    "print(\"A = \\n\", A)\n",
    "print(\"B = \\n\", B)\n",
    "print(\"C = \\n\", C)\n",
    "D = A - B\n",
    "print(\"D = \\n\", D)\n",
    "E = A * B\n",
    "print(\"E = \\n\" , E)\n",
    "F = A / B\n",
    "print(\"F = \\n\" , F)"
   ]
  },
  {
   "cell_type": "markdown",
   "id": "43fad425-0411-4471-962e-c79247aecb83",
   "metadata": {},
   "source": [
    "**Esercizio 19**\n",
    "\n",
    "Costruisci la matrice ottenuta facendo il prodotto scalare tra le  matrici A e B (righe per colonne)"
   ]
  },
  {
   "cell_type": "code",
   "execution_count": 19,
   "id": "c7752b4a-df05-4db2-8b3d-8727dc15edf0",
   "metadata": {},
   "outputs": [
    {
     "name": "stdout",
     "output_type": "stream",
     "text": [
      "[[205 140 179 199 201]\n",
      " [200 160 175 172 145]\n",
      " [219 140 165 186 171]\n",
      " [213 190 190 156 120]\n",
      " [177 156 161 132 105]]\n"
     ]
    }
   ],
   "source": [
    "print(np.dot(A,B))"
   ]
  },
  {
   "cell_type": "markdown",
   "id": "e6ae130a-1d6c-429b-ab62-718ff805d9bc",
   "metadata": {},
   "source": [
    "**Esercizio 20**\n",
    "\n",
    "Costruisci l'array ottenuto sommando gli elementi delle righe della matrice B usando l'appropriata funzione di Numpy."
   ]
  },
  {
   "cell_type": "code",
   "execution_count": 20,
   "id": "5fb17680-1142-4834-99a2-2ebf679a7dae",
   "metadata": {},
   "outputs": [
    {
     "data": {
      "text/plain": [
       "array([15, 14, 12, 15, 16])"
      ]
     },
     "execution_count": 20,
     "metadata": {},
     "output_type": "execute_result"
    }
   ],
   "source": [
    "B.sum(axis=1)"
   ]
  },
  {
   "cell_type": "markdown",
   "id": "4cb04c63-c9c6-41a8-8e62-bc4497a4251b",
   "metadata": {},
   "source": [
    "**Esercizio 21** \n",
    "\n",
    "Costruisci l'array ottenuto sommando gli elementi delle colonne della matrice B usando l'appropriata funzione di Numpy."
   ]
  },
  {
   "cell_type": "code",
   "execution_count": 21,
   "id": "041bbdd4-a9ba-46d2-b5cb-0e061e893a2c",
   "metadata": {},
   "outputs": [
    {
     "data": {
      "text/plain": [
       "array([17, 12, 14, 15, 14])"
      ]
     },
     "execution_count": 21,
     "metadata": {},
     "output_type": "execute_result"
    }
   ],
   "source": [
    "B.sum(axis=0)"
   ]
  },
  {
   "cell_type": "markdown",
   "id": "5715d0db-b005-4256-86a0-4a94a46fdd96",
   "metadata": {},
   "source": [
    "**Esercizio 22** \n",
    "\n",
    "Somma tutti gli elementi di B usando l'appropriata funzione di Numpy."
   ]
  },
  {
   "cell_type": "code",
   "execution_count": 22,
   "id": "8446ad36-9b65-47b5-8ad7-bb867e6faa21",
   "metadata": {},
   "outputs": [
    {
     "data": {
      "text/plain": [
       "72"
      ]
     },
     "execution_count": 22,
     "metadata": {},
     "output_type": "execute_result"
    }
   ],
   "source": [
    "B.sum(axis=None)"
   ]
  },
  {
   "cell_type": "markdown",
   "id": "337c76cc-d82b-4bbb-a57c-52080a6aa9cb",
   "metadata": {},
   "source": [
    "**Esercizio 23**\n",
    "\n",
    "Calcolare il minimo degli elementi di B, tra le righe, tra le colonne, il minimo di tutta la matrice B"
   ]
  },
  {
   "cell_type": "code",
   "execution_count": 23,
   "id": "a7274a66-5acc-4dfb-b380-731f3e7e87bb",
   "metadata": {},
   "outputs": [
    {
     "name": "stdout",
     "output_type": "stream",
     "text": [
      "Minimo righe: [1 2 1 1 2]\n",
      "Minimo colonne: [1 1 1 2 1]\n",
      "Minimo complessivo: 1\n"
     ]
    }
   ],
   "source": [
    "print(\"Minimo righe:\",B.min(axis=1))\n",
    "print(\"Minimo colonne:\",B.min(axis=0))\n",
    "print(\"Minimo complessivo:\",B.min(axis=None))"
   ]
  },
  {
   "cell_type": "markdown",
   "id": "30bc84d9-f2ff-42aa-95ee-b10d69e50762",
   "metadata": {},
   "source": [
    "**Esercizio 24**\n",
    "\n",
    "Calcola e memorizza in un vettore la somma degli elementi di ogni colonna di $ |B |$. Calcola successivamente il massimo di questo vettore.\n",
    "$maxsc= \\max_{j=1,n} \\sum_{i} |b_{ij}|$"
   ]
  },
  {
   "cell_type": "code",
   "execution_count": 24,
   "id": "3df3c8a1-626a-44f1-b4fe-8fef0bcded8e",
   "metadata": {},
   "outputs": [
    {
     "name": "stdout",
     "output_type": "stream",
     "text": [
      "17\n"
     ]
    }
   ],
   "source": [
    "print(np.max(np.sum(B, axis=0)))"
   ]
  },
  {
   "cell_type": "markdown",
   "id": "7763e180-a6f1-41d3-9af7-4fb92bacd72d",
   "metadata": {},
   "source": [
    "**Esercizio 25**\n",
    "Calcola, memorizzando in un vettore, la somma degli elementi di ogni riga  di $ |B |$. Calcola successivamente il massimo di questo vettore.\n",
    "$maxsr= \\max_{i=1,n} \\sum_{j} |b_{ij}|$"
   ]
  },
  {
   "cell_type": "code",
   "execution_count": 25,
   "id": "a6738447-2c2f-41bb-ad7d-9cc3af19940e",
   "metadata": {},
   "outputs": [
    {
     "name": "stdout",
     "output_type": "stream",
     "text": [
      "16\n"
     ]
    }
   ],
   "source": [
    "print(np.max(np.sum(B, axis=1)))"
   ]
  },
  {
   "cell_type": "markdown",
   "id": "89a136bb-2e23-4fca-9717-d32434f5f5ce",
   "metadata": {},
   "source": [
    "**Esercizio 26**\n",
    "\n",
    "Effettua nella matrice B lo scambio tra la  riga 2 e  la riga 3"
   ]
  },
  {
   "cell_type": "markdown",
   "id": "5a00eaef-f14c-49f9-b9d1-c8ad90627935",
   "metadata": {},
   "source": [
    "**Esercizio 27**\n",
    "\n",
    "Calcola il valore massimo della colonna 0-esima della matrice B e l'indice di riga a cui appartiene"
   ]
  },
  {
   "cell_type": "code",
   "execution_count": 26,
   "id": "d6d066bb-b7f0-4b8b-93d2-371f5dbf3573",
   "metadata": {},
   "outputs": [
    {
     "name": "stdout",
     "output_type": "stream",
     "text": [
      "5\n",
      "(array([0], dtype=int64),)\n"
     ]
    }
   ],
   "source": [
    "max = np.max(B[0])\n",
    "print(max)\n",
    "print(np.where(max))"
   ]
  },
  {
   "cell_type": "markdown",
   "id": "12be327e-41a9-4700-82b2-f78709585ce3",
   "metadata": {},
   "source": [
    "**Esercizio 28**   \n",
    "\n",
    "\n",
    "Scrivi una funzione border(m,n,visualizza=False) che:\n",
    "-      crea un array 2D di shape(m,n) che abbia tutti valori nulli\n",
    "-     imposta ad 1  i valori degli elementi sul bordo dell'array (prima ed ultima riga, prima e l'ultima colonna)\n",
    "-      Preveda un argomento di default che se impostato a True visualizza la matrice"
   ]
  },
  {
   "cell_type": "code",
   "execution_count": 27,
   "id": "796ece9a-9eac-47a6-87dd-e50f9b6bd2c8",
   "metadata": {},
   "outputs": [
    {
     "name": "stdout",
     "output_type": "stream",
     "text": [
      "[[1. 1. 1. 1. 1. 1. 1. 1. 1. 1. 1. 1. 1. 1. 1.]\n",
      " [1. 0. 0. 0. 0. 0. 0. 0. 0. 0. 0. 0. 0. 0. 1.]\n",
      " [1. 0. 0. 0. 0. 0. 0. 0. 0. 0. 0. 0. 0. 0. 1.]\n",
      " [1. 1. 1. 1. 1. 1. 1. 1. 1. 1. 1. 1. 1. 1. 1.]]\n"
     ]
    }
   ],
   "source": [
    "def border(m, n, visualizza=False):\n",
    "    arr = np.zeros((m, n))\n",
    "    arr[0] = 1\n",
    "    arr[-1] = 1\n",
    "    arr[0:m, -1] = 1\n",
    "    arr[0:m, 0] = 1\n",
    "    if visualizza:\n",
    "        print(arr)\n",
    "\n",
    "\n",
    "border(4, 15, visualizza=True)"
   ]
  },
  {
   "cell_type": "markdown",
   "id": "20e88028-91cf-4f99-90b9-5d2f8148b3a9",
   "metadata": {},
   "source": [
    "**Esercizio 29**\n",
    "\n",
    "Scrivi una funzione `visualizza(f,a,b)`che prende in input una lambda function f, gli estremi dell'intervallo [a,b] su cui è definita e la visualizzi in una finestra grafica\n",
    "\n",
    "Chaima la funzione passandogli la funzione f(x)=sin(2*$\\pi$*x), [a,b]=[0,2*$\\pi$]"
   ]
  },
  {
   "cell_type": "code",
   "execution_count": null,
   "id": "69dfc15c-74b0-4ae1-843b-d9397355c0d1",
   "metadata": {},
   "outputs": [],
   "source": []
  },
  {
   "cell_type": "markdown",
   "id": "c4e0b8d0-b590-4554-9954-7333715b3c63",
   "metadata": {},
   "source": [
    "**Esercizio 30**\n",
    "\n",
    "Scrivi una funzione `visualizza2(f,a,b,f2,a2,b2)`che prende in input una lambda function f e gli estremi dell'intervallo [a,b]  su cui è definita, una lambda function f2 e gli estremi dell'intervallo su cui è definita [a2,b2] e le visualizzi sulla stessa finestra grafica.\n",
    "\n",
    "Chaima la funzione passandogli  una funzione f(x) quadratica ed una funzione f2(x) exponenziale ed [a,b]=[0,2]"
   ]
  },
  {
   "cell_type": "code",
   "execution_count": null,
   "id": "e67b133d-b095-44ad-a8c5-bcda330bacca",
   "metadata": {},
   "outputs": [],
   "source": []
  }
 ],
 "metadata": {
  "kernelspec": {
   "display_name": "Python 3 (ipykernel)",
   "language": "python",
   "name": "python3"
  },
  "language_info": {
   "codemirror_mode": {
    "name": "ipython",
    "version": 3
   },
   "file_extension": ".py",
   "mimetype": "text/x-python",
   "name": "python",
   "nbconvert_exporter": "python",
   "pygments_lexer": "ipython3",
   "version": "3.11.7"
  }
 },
 "nbformat": 4,
 "nbformat_minor": 5
}
